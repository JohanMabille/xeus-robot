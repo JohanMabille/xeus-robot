{
 "cells": [
  {
   "cell_type": "markdown",
   "metadata": {},
   "source": [
    "## Importing"
   ]
  },
  {
   "cell_type": "markdown",
   "metadata": {},
   "source": [
    "The library is imported and used with **SeleniumLibrary** with its name **SeleniumScreenshots**."
   ]
  },
  {
   "cell_type": "code",
   "execution_count": null,
   "metadata": {},
   "outputs": [],
   "source": [
    "*** Settings ***\n",
    "\n",
    "Library  SeleniumLibrary\n",
    "Library  SeleniumScreenshots"
   ]
  },
  {
   "cell_type": "code",
   "execution_count": null,
   "metadata": {},
   "outputs": [],
   "source": [
    "*** Variables ***\n",
    "\n",
    "${BROWSER}  firefox"
   ]
  },
  {
   "cell_type": "code",
   "execution_count": null,
   "metadata": {},
   "outputs": [],
   "source": [
    "*** Keywords ***\n",
    "\n",
    "Open robotframework.org\n",
    "    Set window size  800  600\n",
    "    Go to  https://robotframework.org"
   ]
  },
  {
   "cell_type": "code",
   "execution_count": null,
   "metadata": {},
   "outputs": [],
   "source": [
    "*** Test Cases ***\n",
    "\n",
    "Open browser\n",
    "    Open browser  about:blank  browser=${BROWSER}"
   ]
  },
  {
   "cell_type": "markdown",
   "metadata": {},
   "source": [
    "## Capture and crop page screenshot\n",
    "\n",
    "Keyword **Capture and crop page screenshot** takes, at first, a screenshot of the current page using **Capture page screenshot** keyword from SeleniumLibrary, and then, crops that screenshot down to the combined bounding box of the elements matching the given locators.\n",
    "\n",
    "For its argument the keyword requires filename of the resulting screenshot file and one ore more locators."
   ]
  },
  {
   "cell_type": "code",
   "execution_count": null,
   "metadata": {},
   "outputs": [],
   "source": [
    "*** Test Cases ***\n",
    "\n",
    "Capture and crop page screenshot\n",
    "    Open robotframework.org\n",
    "    Capture and crop page screenshot\n",
    "    ...  screenshot.png\n",
    "    ...  css:H1.main-header\n",
    "    ...  css:NAV[id='navigation'] > DIV > IMG"
   ]
  },
  {
   "cell_type": "markdown",
   "metadata": {},
   "source": [
    "## Highlight\n",
    "\n",
    "Keywords **Highlight** and **Clear highlighting** are simple wrappers around **Update element style** keyword to highlight an element by updating its outline style."
   ]
  },
  {
   "cell_type": "code",
   "execution_count": null,
   "metadata": {},
   "outputs": [],
   "source": [
    "*** Test Cases ***\n",
    "\n",
    "Highlighting an area\n",
    "    Open robotframework.org\n",
    "    Highlight\n",
    "    ...  link:INTRODUCTION  # locator (id, css, name or link)\n",
    "    Capture and crop page screenshot\n",
    "    ...  screenshot.png     # filename\n",
    "    ...  link:INTRODUCTION  # locator"
   ]
  },
  {
   "cell_type": "code",
   "execution_count": null,
   "metadata": {},
   "outputs": [],
   "source": [
    "*** Test Cases ***\n",
    "\n",
    "Clear highlighting\n",
    "    Clear highlight  link:INTRODUCTION\n",
    "    Capture and crop page screenshot\n",
    "    ...  screenshot.png\n",
    "    ...  link:INTRODUCTION"
   ]
  },
  {
   "cell_type": "markdown",
   "metadata": {},
   "source": [
    "## Update element style\n",
    "\n",
    "Keyword **Update element style** updates named style with given value for elements matching the given locator."
   ]
  },
  {
   "cell_type": "code",
   "execution_count": null,
   "metadata": {},
   "outputs": [],
   "source": [
    "*** Test Cases ***\n",
    "\n",
    "Update style\n",
    "    Open robotframework.org\n",
    "    Update element style\n",
    "    ...  link:INTRODUCTION  # locator (id, css, name or link)\n",
    "    ...  outline            # style\n",
    "    ...  dotted yellow 3px  # value\n",
    "    Capture and crop page screenshot\n",
    "    ...  screenshot-1.png\n",
    "    ...  link:INTRODUCTION\n",
    "    Update element style\n",
    "    ...  link:INTRODUCTION\n",
    "    ...  outline\n",
    "    ...  none\n",
    "    Capture and crop page screenshot\n",
    "    ...  screenshot-2.png\n",
    "    ...  link:INTRODUCTION"
   ]
  },
  {
   "cell_type": "markdown",
   "metadata": {},
   "source": [
    "## Add dot\n",
    "\n",
    "Keyword **Add dot** adds a dot at the element matching the given locator. By default it aligns to the center of the element, but alignment can be configured  with optional **left** and **top** arguments."
   ]
  },
  {
   "cell_type": "code",
   "execution_count": null,
   "metadata": {},
   "outputs": [],
   "source": [
    "*** Test Cases ***\n",
    "\n",
    "Add dot\n",
    "    Open robotframework.org\n",
    "    Add dot\n",
    "    ...  link:INTRODUCTION\n",
    "    ...  left=8\n",
    "    Capture and crop page screenshot\n",
    "    ...  screenshot.png\n",
    "    ...  link:INTRODUCTION"
   ]
  },
  {
   "cell_type": "markdown",
   "metadata": {},
   "source": [
    "More importantly, **Add dot** keyword accepts optional **text**-argument, which is intended for annotating sequences."
   ]
  },
  {
   "cell_type": "code",
   "execution_count": null,
   "metadata": {},
   "outputs": [],
   "source": [
    "*** Test Cases ***\n",
    "\n",
    "Add numbered dots dots\n",
    "    Open robotframework.org\n",
    "    Add dot\n",
    "    ...  link:INTRODUCTION\n",
    "    ...  text=1\n",
    "    ...  left=8\n",
    "    Add dot\n",
    "    ...  link:EXAMPLES\n",
    "    ...  text=2\n",
    "    ...  left=8\n",
    "    Capture and crop page screenshot\n",
    "    ...  screenshot.png\n",
    "    ...  link:INTRODUCTION\n",
    "    ...  link:EXAMPLES"
   ]
  },
  {
   "cell_type": "markdown",
   "metadata": {},
   "source": [
    "## Remove element\n",
    "\n",
    "All **SeleniumScreenshots** keywords that add new elements onto the current page return the id of the created element. That id can be saved into a variable and used e.g. with **Update element style**-keyword or, as shown below, with **Remove element** keyword for removing the annotation."
   ]
  },
  {
   "cell_type": "code",
   "execution_count": null,
   "metadata": {},
   "outputs": [],
   "source": [
    "*** Test Cases ***\n",
    "\n",
    "Add and remove dot\n",
    "    Open robotframework.org\n",
    "    ${dot}=  Add dot\n",
    "    ...  link:INTRODUCTION\n",
    "    ...  left=8  background=red\n",
    "    Capture and crop page screenshot\n",
    "    ...  screenshot-1.png\n",
    "    ...  link:INTRODUCTION\n",
    "    Remove element  ${dot}\n",
    "    Capture and crop page screenshot\n",
    "    ...  screenshot-2.png\n",
    "    ...  link:INTRODUCTION"
   ]
  },
  {
   "cell_type": "markdown",
   "metadata": {},
   "source": [
    "Remove element has plural version **Remove elements** which accepts multiple locators."
   ]
  },
  {
   "cell_type": "markdown",
   "metadata": {},
   "source": [
    "## Add note"
   ]
  },
  {
   "cell_type": "markdown",
   "metadata": {},
   "source": [
    "Keyword **Add note** adds a yellow sticky onto the current page. Its main configuration arguments beyond the locator are **text** and **position** (accepting *center*, *top*, *right*, *bottom* and *left*). Multiline notes should define their **width**."
   ]
  },
  {
   "cell_type": "code",
   "execution_count": null,
   "metadata": {},
   "outputs": [],
   "source": [
    "*** Test Cases ***\n",
    "\n",
    "Add note\n",
    "    Open robotframework.org\n",
    "    ${note} =  Add note \n",
    "    ...  css:NAV[id='navigation'] > DIV > IMG\n",
    "    ...  text=I am a robot. With opinions.\n",
    "    ...  width=160\n",
    "    ...  position=right\n",
    "    Capture and crop page screenshot\n",
    "    ...  screenshot.png\n",
    "    ...  css:NAV[id='navigation'] > DIV > IMG\n",
    "    ...  ${note}"
   ]
  },
  {
   "cell_type": "markdown",
   "metadata": {},
   "source": [
    "## Add pointy note\n",
    "\n",
    "Keyword **Add pointy note** is similar to **Add note** with the difference that its notes come with a pointer triangle targeting the element."
   ]
  },
  {
   "cell_type": "code",
   "execution_count": null,
   "metadata": {},
   "outputs": [],
   "source": [
    "*** Test Cases ***\n",
    "\n",
    "Add pointy note\n",
    "    Open robotframework.org\n",
    "    ${note} =  Add pointy note\n",
    "    ...  link:INTRODUCTION\n",
    "    ...  text=Start here.\n",
    "    ...  position=right\n",
    "    Capture and crop page screenshot\n",
    "    ...  screenshot.png\n",
    "    ...  link:INTRODUCTION\n",
    "    ...  ${note}"
   ]
  },
  {
   "cell_type": "markdown",
   "metadata": {},
   "source": [
    "## Notes"
   ]
  },
  {
   "cell_type": "markdown",
   "metadata": {},
   "source": [
    "This introduction has been created as executable [Jupyter notebook](https://jupyter.org/) with [robotkernel](https://pypi.org/project/robotkernel/). Interactive version of this notebook is available for download [downloaded from GitHub](https://github.com/datakurre/robotframework-seleniumscreenshots/blob/master/docs/Introduction%20to%20SeleniumScreenshots.ipynb).\n",
    "\n",
    "When this notebook is exported into ``robot`` file to be run with ``robot`` (or runned as such with ``nbrobot`` from robotkernel), test browser windows must be explicitly closed, requiring the following setting:"
   ]
  },
  {
   "cell_type": "code",
   "execution_count": null,
   "metadata": {},
   "outputs": [],
   "source": [
    "*** Settings ***\n",
    "\n",
    "Suite Teardown  Close all browsers"
   ]
  }
 ],
 "metadata": {
  "kernelspec": {
   "display_name": "RobotFramework (XRobot)",
   "language": "robotframework",
   "name": "xrobot"
  },
  "language_info": {
   "codemirror_mode": "robotframework",
   "file_extension": ".robot",
   "mimetype": "text/x-robotframework",
   "name": "robotframework",
   "pygments_lexer": "robotframework",
   "version": "3.2"
  },
  "widgets": {
   "application/vnd.jupyter.widget-state+json": {
    "state": {
     "053cfe2a753b4acf995af8392d9e4047": {
      "model_module": "@jupyter-widgets/base",
      "model_module_version": "1.2.0",
      "model_name": "LayoutModel",
      "state": {
       "display": "flex",
       "flex_flow": "row",
       "justify_content": "flex-start"
      }
     },
     "40bfc0dc8625466ea41ea43260ff1f23": {
      "model_module": "@jupyter-widgets/output",
      "model_module_version": "1.0.0",
      "model_name": "OutputModel",
      "state": {
       "layout": "IPY_MODEL_aa4c1e8c7ab44136a33edfbf37640343"
      }
     },
     "7e0028dd66ef4d1e8adfa2851b9f26e2": {
      "model_module": "@jupyter-widgets/base",
      "model_module_version": "1.2.0",
      "model_name": "LayoutModel",
      "state": {}
     },
     "aa3bf9afb26f4f0a89855d17517004b8": {
      "model_module": "@jupyter-widgets/controls",
      "model_module_version": "1.5.0",
      "model_name": "BoxModel",
      "state": {
       "children": [
        "IPY_MODEL_cae2a560299b42a9845ef0c963a94980"
       ],
       "layout": "IPY_MODEL_053cfe2a753b4acf995af8392d9e4047"
      }
     },
     "aa4c1e8c7ab44136a33edfbf37640343": {
      "model_module": "@jupyter-widgets/base",
      "model_module_version": "1.2.0",
      "model_name": "LayoutModel",
      "state": {}
     },
     "cae2a560299b42a9845ef0c963a94980": {
      "model_module": "@jupyter-widgets/controls",
      "model_module_version": "1.5.0",
      "model_name": "ButtonModel",
      "state": {
       "description": "Open robotframework.org",
       "layout": "IPY_MODEL_7e0028dd66ef4d1e8adfa2851b9f26e2",
       "style": "IPY_MODEL_dab840071d1649698055fcf3e14d8cb5"
      }
     },
     "dab840071d1649698055fcf3e14d8cb5": {
      "model_module": "@jupyter-widgets/controls",
      "model_module_version": "1.5.0",
      "model_name": "ButtonStyleModel",
      "state": {}
     }
    },
    "version_major": 2,
    "version_minor": 0
   }
  }
 },
 "nbformat": 4,
 "nbformat_minor": 4
}
